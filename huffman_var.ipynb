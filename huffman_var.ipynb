{
 "cells": [
  {
   "cell_type": "code",
   "execution_count": null,
   "metadata": {},
   "outputs": [],
   "source": [
    "import huffman\n",
    "import math\n",
    "\n",
    "symbol_freq_pairs = [('A', 200), ('B', 434), ('C', 11), ('D', 321), ('E', 0)]\n",
    "\n",
    "codebook = huffman.codebook(symbol_freq_pairs)\n",
    "\n",
    "total_frequency = sum(freq for _, freq in symbol_freq_pairs)\n",
    "ent = 0\n",
    "avg_len = 0\n",
    "\n",
    "for symbol, freq in symbol_freq_pairs:\n",
    "    if freq > 0:\n",
    "        p = freq / total_frequency\n",
    "        ent -= p * math.log2(p)\n",
    "        avg_len += len(codebook[symbol]) * p\n",
    "\n",
    "eff = ent / avg_len if avg_len > 0 else 0\n",
    "\n",
    "print(\"Huffman Codes:\")\n",
    "for symbol, code in codebook.items():\n",
    "    print(f\"Symbol: {symbol}, Code: {code}\")\n",
    "\n",
    "print(\"\\nEntropy:\", ent)\n",
    "print(\"Average Codeword Length:\", avg_len)\n",
    "print(\"Efficiency:\", eff)"
   ]
  }
 ],
 "metadata": {
  "language_info": {
   "name": "python"
  }
 },
 "nbformat": 4,
 "nbformat_minor": 2
}
