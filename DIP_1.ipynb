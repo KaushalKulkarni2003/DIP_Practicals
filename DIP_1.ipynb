{
  "cells": [
    {
      "cell_type": "code",
      "execution_count": null,
      "metadata": {
        "id": "VEYk_Vlnsqc0"
      },
      "outputs": [],
      "source": [
        "import cv2 as cv2\n",
        "import numpy as np\n",
        "from google.colab.patches import cv2_imshow\n",
        "import matplotlib.pylab as plt\n",
        "from  PIL import Image"
      ]
    },
    {
      "cell_type": "code",
      "execution_count": null,
      "metadata": {
        "colab": {
          "base_uri": "https://localhost:8080/",
          "height": 257
        },
        "id": "BRrnJ_p2tm7x",
        "outputId": "f7091474-a9d4-4790-9e31-54166e463f5e"
      },
      "outputs": [],
      "source": [
        "img=cv2.imread('/content/240_F_580908469_ameHMXlxIeyOfFK9YX0VDb6xsebULfPr.jpg')\n",
        "cv2_imshow(img);"
      ]
    },
    {
      "cell_type": "code",
      "execution_count": null,
      "metadata": {
        "colab": {
          "base_uri": "https://localhost:8080/",
          "height": 257
        },
        "id": "IBUvNlq-cWgD",
        "outputId": "860e2fb2-22d7-49d8-bd6a-ee1b02059a6d"
      },
      "outputs": [],
      "source": [
        "img=cv2.imread('/content/240_F_580908469_ameHMXlxIeyOfFK9YX0VDb6xsebULfPr.jpg')\n",
        "rgb_image = cv2.cvtColor(img, cv2.COLOR_RGB2BGR)\n",
        "cv2_imshow(rgb_image);"
      ]
    },
    {
      "cell_type": "code",
      "execution_count": null,
      "metadata": {
        "colab": {
          "base_uri": "https://localhost:8080/",
          "height": 217
        },
        "id": "7FSyW4I1bXM7",
        "outputId": "37fecfe7-33bf-4b97-b99b-7b1d00bffaac"
      },
      "outputs": [],
      "source": [
        "img=cv2.imread('/content/240_F_580908469_ameHMXlxIeyOfFK9YX0VDb6xsebULfPr.jpg')\n",
        "new_size = (300, 200)\n",
        "resized_image = cv2.resize(img, new_size)\n",
        "cv2_imshow(resized_image);"
      ]
    },
    {
      "cell_type": "code",
      "execution_count": null,
      "metadata": {
        "colab": {
          "base_uri": "https://localhost:8080/",
          "height": 257
        },
        "id": "_MsZleuGbEay",
        "outputId": "c6a061b5-b4cb-44a6-8c5c-eb95d52edfc6"
      },
      "outputs": [],
      "source": [
        "img=cv2.imread('/content/240_F_580908469_ameHMXlxIeyOfFK9YX0VDb6xsebULfPr.jpg')\n",
        "rotated_image = cv2.rotate(img, cv2.ROTATE_180)\n",
        "cv2_imshow(rotated_image);"
      ]
    },
    {
      "cell_type": "code",
      "execution_count": null,
      "metadata": {
        "colab": {
          "base_uri": "https://localhost:8080/",
          "height": 217
        },
        "id": "M-PlVqaYdD83",
        "outputId": "27001506-9267-436f-8e57-0848a21f2a9c"
      },
      "outputs": [],
      "source": [
        "img1 = cv2.imread('/content/240_F_580908469_ameHMXlxIeyOfFK9YX0VDb6xsebULfPr.jpg')\n",
        "img2 = cv2.imread(\"/content/bOvf94dPRxWu0u3QsPjF_tree.jpg\")\n",
        "\n",
        "new_size = (300, 200)\n",
        "resized_img1 = cv2.resize(img1, new_size)\n",
        "resized_img2 = cv2.resize(img2, new_size)\n",
        "img3 = cv2.add(resized_img1, resized_img2)\n",
        "cv2_imshow( img3)\n"
      ]
    },
    {
      "cell_type": "code",
      "execution_count": null,
      "metadata": {
        "id": "3npzmKKm02G2"
      },
      "outputs": [],
      "source": [
        "img1 = cv2.imread('/content/240_F_580908469_ameHMXlxIeyOfFK9YX0VDb6xsebULfPr.jpg')\n",
        "img2 = cv2.imread(\"/content/bOvf94dPRxWu0u3QsPjF_tree.jpg\")\n",
        "\n",
        "new_size = (300, 200)\n",
        "resized_img1 = cv2.resize(img1, new_size)\n",
        "resized_img2 = cv2.resize(img2, new_size)\n",
        "img3 = cv2.add(resized_img1, resized_img2)\n",
        "cv2_imshow( img3)"
      ]
    },
    {
      "cell_type": "code",
      "execution_count": null,
      "metadata": {
        "colab": {
          "base_uri": "https://localhost:8080/",
          "height": 472
        },
        "id": "3w8qJWqjuO0A",
        "outputId": "2551dcbf-a5d4-4e4d-ec86-45f069a4377a"
      },
      "outputs": [],
      "source": [
        "# Load the image\n",
        "img = cv2.imread('/content/240_F_580908469_ameHMXlxIeyOfFK9YX0VDb6xsebULfPr.jpg')\n",
        "\n",
        "# Convert the image to grayscale\n",
        "gray_img = cv2.cvtColor(img, cv2.COLOR_BGR2GRAY)\n",
        "\n",
        "# Calculate histogram\n",
        "hist = cv2.calcHist([gray_img], [0], None, [256], [0, 256])\n",
        "\n",
        "# Plot the histogram\n",
        "plt.plot(hist)\n",
        "plt.title('Grayscale Histogram')\n",
        "plt.xlabel('Pixel Value')\n",
        "plt.ylabel('Frequency')\n",
        "plt.show()\n"
      ]
    },
    {
      "cell_type": "code",
      "execution_count": null,
      "metadata": {
        "colab": {
          "base_uri": "https://localhost:8080/",
          "height": 168
        },
        "id": "4p1j-efr82Ne",
        "outputId": "46231af9-e279-430b-e2f5-8c83cf3581b4"
      },
      "outputs": [],
      "source": [
        "img = cv2.imread('/content/240_F_580908469_ameHMXlxIeyOfFK9YX0VDb6xsebULfPr.jpg', 0)\n",
        "\n",
        "binary_image1 = cv2.threshold(img, 175, 255, cv2.THRESH_BINARY)\n",
        "plt.imshow(binary_image1[1], cmap='gray', vmin=175, vmax=255)\n",
        "plt.title('Binary Image')\n",
        "plt.show()\n",
        "\n",
        "_, binary_image2 = cv2.threshold(img, 175, 255, cv2.THRESH_BINARY_INV)\n",
        "plt.imshow(binary_image2, cmap='gray', vmin=175, vmax=255)\n",
        "plt.title('THRESH_BINARY_INV')\n",
        "plt.show()\n",
        "\n",
        "_, binary_image3 = cv2.threshold(img, 175, 255, cv2.THRESH_TRUNC)\n",
        "plt.imshow(binary_image3, cmap='gray', vmin=175, vmax=255)\n",
        "plt.title('THRESH_TRUNC')\n",
        "plt.show()\n",
        "\n",
        "binary_image4 = cv2.threshold(img, 175, 255, cv2.THRESH_TOZERO)\n",
        "plt.imshow(binary_image4[1], cmap='gray', vmin=175, vmax=255)\n",
        "plt.title('THRESH_TOZERO')\n",
        "plt.show()\n",
        "\n",
        "binary_image5 = cv2.threshold(img, 175, 255, cv2.THRESH_TOZERO_INV)\n",
        "plt.imshow(binary_image5[1], cmap='gray', vmin=175, vmax=255)\n",
        "plt.title('THRESH_TOZERO_INV')\n",
        "plt.show()\n"
      ]
    },
    {
      "cell_type": "code",
      "execution_count": null,
      "metadata": {
        "colab": {
          "base_uri": "https://localhost:8080/",
          "height": 273
        },
        "id": "qAWQLZKmT29r",
        "outputId": "526ca858-0ac1-42b2-df51-011fdf1e2afa"
      },
      "outputs": [],
      "source": [
        "# Read the image\n",
        "img = cv2.imread('/content/cameraman.bmp')\n",
        "\n",
        "# Generate Gaussian noise\n",
        "mean = 10\n",
        "var = 10000\n",
        "sigma = var ** 0.5\n",
        "noise = np.random.randn(*img.shape) * sigma\n",
        "\n",
        "# Add noise to the image\n",
        "noisy_img = img + noise\n",
        "\n",
        "# Display the noisy image\n",
        "cv2_imshow( noisy_img)"
      ]
    }
  ],
  "metadata": {
    "colab": {
      "provenance": []
    },
    "kernelspec": {
      "display_name": "Python 3",
      "name": "python3"
    },
    "language_info": {
      "codemirror_mode": {
        "name": "ipython",
        "version": 3
      },
      "file_extension": ".py",
      "mimetype": "text/x-python",
      "name": "python",
      "nbconvert_exporter": "python",
      "pygments_lexer": "ipython3",
      "version": "3.9.12"
    }
  },
  "nbformat": 4,
  "nbformat_minor": 0
}
