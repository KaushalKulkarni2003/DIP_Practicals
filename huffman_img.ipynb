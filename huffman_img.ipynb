{
 "cells": [
  {
   "cell_type": "code",
   "execution_count": null,
   "metadata": {},
   "outputs": [],
   "source": [
    "import cv2\n",
    "import matplotlib.pyplot as plt\n",
    "import numpy as np\n",
    "import huffman\n",
    "\n",
    "img = cv2.imread(\"Original-cameraman-image.png\", 0)\n",
    "\n",
    "hist, bins = np.histogram(img.ravel(), 256, [0, 256])\n",
    "\n",
    "# Create a list of tuples where the first element is the symbol and the second element is the frequency\n",
    "symbol_freq_pairs = [(str(i), hist[i]) for i in range(len(hist))]\n",
    "\n",
    "# Build the Huffman tree\n",
    "codebook = huffman.codebook(symbol_freq_pairs)\n",
    "\n",
    "encoded_image = \"\"\n",
    "for i in range(img.shape[0]):\n",
    "    for j in range(img.shape[1]):\n",
    "        encoded_image += codebook[str(img[i, j])]\n",
    "\n",
    "decoded_image = np.zeros_like(img)\n",
    "current_index = 0\n",
    "for i in range(img.shape[0]):\n",
    "    for j in range(img.shape[1]):\n",
    "        for symbol, code in codebook.items():\n",
    "            if encoded_image[current_index:current_index + len(code)] == code:\n",
    "                decoded_image[i, j] = int(symbol)\n",
    "                current_index += len(code)\n",
    "                break\n",
    "\n",
    "original_bits = img.shape[0] * img.shape[1] * 8\n",
    "compressed_bits = len(encoded_image)\n",
    "compression_ratio = original_bits / compressed_bits\n",
    "\n",
    "print(\"Compression Ratio:\", compression_ratio)\n",
    "\n",
    "plt.figure(figsize=(10, 5))\n",
    "plt.subplot(1, 2, 1)\n",
    "plt.imshow(img, cmap=\"gray\")\n",
    "plt.title(\"Original Image\")\n",
    "plt.axis(\"off\")\n",
    "\n",
    "plt.subplot(1, 2, 2)\n",
    "plt.imshow(decoded_image, cmap=\"gray\")\n",
    "plt.title(\"Decoded Image\")\n",
    "plt.axis(\"off\")\n",
    "\n",
    "plt.show()"
   ]
  }
 ],
 "metadata": {
  "language_info": {
   "name": "python"
  }
 },
 "nbformat": 4,
 "nbformat_minor": 2
}
